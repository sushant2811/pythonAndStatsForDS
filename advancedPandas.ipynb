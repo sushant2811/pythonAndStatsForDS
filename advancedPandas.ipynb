{
 "cells": [
  {
   "cell_type": "markdown",
   "metadata": {
    "collapsed": true
   },
   "source": [
    "### Ref. datacamp"
   ]
  },
  {
   "cell_type": "code",
   "execution_count": 1,
   "metadata": {
    "collapsed": true
   },
   "outputs": [],
   "source": [
    "import pandas as pd"
   ]
  },
  {
   "cell_type": "code",
   "execution_count": 4,
   "metadata": {
    "collapsed": true
   },
   "outputs": [],
   "source": [
    "df1 = pd.read_csv('./pandasDataSets/weather_data_austin_2010.csv')"
   ]
  },
  {
   "cell_type": "code",
   "execution_count": 5,
   "metadata": {},
   "outputs": [
    {
     "data": {
      "text/html": [
       "<div>\n",
       "<style>\n",
       "    .dataframe thead tr:only-child th {\n",
       "        text-align: right;\n",
       "    }\n",
       "\n",
       "    .dataframe thead th {\n",
       "        text-align: left;\n",
       "    }\n",
       "\n",
       "    .dataframe tbody tr th {\n",
       "        vertical-align: top;\n",
       "    }\n",
       "</style>\n",
       "<table border=\"1\" class=\"dataframe\">\n",
       "  <thead>\n",
       "    <tr style=\"text-align: right;\">\n",
       "      <th></th>\n",
       "      <th>Temperature</th>\n",
       "      <th>DewPoint</th>\n",
       "      <th>Pressure</th>\n",
       "      <th>Date</th>\n",
       "    </tr>\n",
       "  </thead>\n",
       "  <tbody>\n",
       "    <tr>\n",
       "      <th>0</th>\n",
       "      <td>46.2</td>\n",
       "      <td>37.5</td>\n",
       "      <td>1.0</td>\n",
       "      <td>20100101 00:00</td>\n",
       "    </tr>\n",
       "    <tr>\n",
       "      <th>1</th>\n",
       "      <td>44.6</td>\n",
       "      <td>37.1</td>\n",
       "      <td>1.0</td>\n",
       "      <td>20100101 01:00</td>\n",
       "    </tr>\n",
       "    <tr>\n",
       "      <th>2</th>\n",
       "      <td>44.1</td>\n",
       "      <td>36.9</td>\n",
       "      <td>1.0</td>\n",
       "      <td>20100101 02:00</td>\n",
       "    </tr>\n",
       "    <tr>\n",
       "      <th>3</th>\n",
       "      <td>43.8</td>\n",
       "      <td>36.9</td>\n",
       "      <td>1.0</td>\n",
       "      <td>20100101 03:00</td>\n",
       "    </tr>\n",
       "    <tr>\n",
       "      <th>4</th>\n",
       "      <td>43.5</td>\n",
       "      <td>36.8</td>\n",
       "      <td>1.0</td>\n",
       "      <td>20100101 04:00</td>\n",
       "    </tr>\n",
       "  </tbody>\n",
       "</table>\n",
       "</div>"
      ],
      "text/plain": [
       "   Temperature  DewPoint  Pressure            Date\n",
       "0         46.2      37.5       1.0  20100101 00:00\n",
       "1         44.6      37.1       1.0  20100101 01:00\n",
       "2         44.1      36.9       1.0  20100101 02:00\n",
       "3         43.8      36.9       1.0  20100101 03:00\n",
       "4         43.5      36.8       1.0  20100101 04:00"
      ]
     },
     "execution_count": 5,
     "metadata": {},
     "output_type": "execute_result"
    }
   ],
   "source": [
    "df1.head()"
   ]
  },
  {
   "cell_type": "code",
   "execution_count": 6,
   "metadata": {
    "collapsed": true
   },
   "outputs": [],
   "source": [
    "df2 = pd.read_csv('./pandasDataSets/NOAA_QCLCD_2011_hourly_13904.txt')"
   ]
  },
  {
   "cell_type": "code",
   "execution_count": 7,
   "metadata": {},
   "outputs": [
    {
     "data": {
      "text/html": [
       "<div>\n",
       "<style>\n",
       "    .dataframe thead tr:only-child th {\n",
       "        text-align: right;\n",
       "    }\n",
       "\n",
       "    .dataframe thead th {\n",
       "        text-align: left;\n",
       "    }\n",
       "\n",
       "    .dataframe tbody tr th {\n",
       "        vertical-align: top;\n",
       "    }\n",
       "</style>\n",
       "<table border=\"1\" class=\"dataframe\">\n",
       "  <thead>\n",
       "    <tr style=\"text-align: right;\">\n",
       "      <th></th>\n",
       "      <th>13904</th>\n",
       "      <th>20110101</th>\n",
       "      <th>0053</th>\n",
       "      <th>12</th>\n",
       "      <th>OVC045</th>\n",
       "      <th></th>\n",
       "      <th>10.00</th>\n",
       "      <th>.1</th>\n",
       "      <th>.2</th>\n",
       "      <th>.3</th>\n",
       "      <th>...</th>\n",
       "      <th>.18</th>\n",
       "      <th>.19</th>\n",
       "      <th>29.95</th>\n",
       "      <th>.20</th>\n",
       "      <th>AA</th>\n",
       "      <th>.21</th>\n",
       "      <th>.22</th>\n",
       "      <th>.23</th>\n",
       "      <th>29.95.1</th>\n",
       "      <th>.24</th>\n",
       "    </tr>\n",
       "  </thead>\n",
       "  <tbody>\n",
       "    <tr>\n",
       "      <th>0</th>\n",
       "      <td>13904</td>\n",
       "      <td>20110101</td>\n",
       "      <td>153</td>\n",
       "      <td>12</td>\n",
       "      <td>OVC049</td>\n",
       "      <td></td>\n",
       "      <td>10.00</td>\n",
       "      <td></td>\n",
       "      <td></td>\n",
       "      <td></td>\n",
       "      <td>...</td>\n",
       "      <td></td>\n",
       "      <td></td>\n",
       "      <td>30.01</td>\n",
       "      <td></td>\n",
       "      <td>AA</td>\n",
       "      <td></td>\n",
       "      <td></td>\n",
       "      <td></td>\n",
       "      <td>30.02</td>\n",
       "      <td></td>\n",
       "    </tr>\n",
       "    <tr>\n",
       "      <th>1</th>\n",
       "      <td>13904</td>\n",
       "      <td>20110101</td>\n",
       "      <td>253</td>\n",
       "      <td>12</td>\n",
       "      <td>OVC060</td>\n",
       "      <td></td>\n",
       "      <td>10.00</td>\n",
       "      <td></td>\n",
       "      <td></td>\n",
       "      <td></td>\n",
       "      <td>...</td>\n",
       "      <td>030</td>\n",
       "      <td></td>\n",
       "      <td>30.01</td>\n",
       "      <td></td>\n",
       "      <td>AA</td>\n",
       "      <td></td>\n",
       "      <td></td>\n",
       "      <td></td>\n",
       "      <td>30.02</td>\n",
       "      <td></td>\n",
       "    </tr>\n",
       "    <tr>\n",
       "      <th>2</th>\n",
       "      <td>13904</td>\n",
       "      <td>20110101</td>\n",
       "      <td>353</td>\n",
       "      <td>12</td>\n",
       "      <td>OVC065</td>\n",
       "      <td></td>\n",
       "      <td>10.00</td>\n",
       "      <td></td>\n",
       "      <td></td>\n",
       "      <td></td>\n",
       "      <td>...</td>\n",
       "      <td></td>\n",
       "      <td></td>\n",
       "      <td>30.03</td>\n",
       "      <td></td>\n",
       "      <td>AA</td>\n",
       "      <td></td>\n",
       "      <td></td>\n",
       "      <td></td>\n",
       "      <td>30.04</td>\n",
       "      <td></td>\n",
       "    </tr>\n",
       "    <tr>\n",
       "      <th>3</th>\n",
       "      <td>13904</td>\n",
       "      <td>20110101</td>\n",
       "      <td>453</td>\n",
       "      <td>12</td>\n",
       "      <td>BKN070</td>\n",
       "      <td></td>\n",
       "      <td>10.00</td>\n",
       "      <td></td>\n",
       "      <td></td>\n",
       "      <td></td>\n",
       "      <td>...</td>\n",
       "      <td></td>\n",
       "      <td></td>\n",
       "      <td>30.04</td>\n",
       "      <td></td>\n",
       "      <td>AA</td>\n",
       "      <td></td>\n",
       "      <td></td>\n",
       "      <td></td>\n",
       "      <td>30.04</td>\n",
       "      <td></td>\n",
       "    </tr>\n",
       "    <tr>\n",
       "      <th>4</th>\n",
       "      <td>13904</td>\n",
       "      <td>20110101</td>\n",
       "      <td>553</td>\n",
       "      <td>12</td>\n",
       "      <td>BKN065</td>\n",
       "      <td></td>\n",
       "      <td>10.00</td>\n",
       "      <td></td>\n",
       "      <td></td>\n",
       "      <td></td>\n",
       "      <td>...</td>\n",
       "      <td>015</td>\n",
       "      <td></td>\n",
       "      <td>30.06</td>\n",
       "      <td></td>\n",
       "      <td>AA</td>\n",
       "      <td></td>\n",
       "      <td></td>\n",
       "      <td></td>\n",
       "      <td>30.06</td>\n",
       "      <td></td>\n",
       "    </tr>\n",
       "  </tbody>\n",
       "</table>\n",
       "<p>5 rows × 44 columns</p>\n",
       "</div>"
      ],
      "text/plain": [
       "   13904  20110101  0053  12  OVC045     10.00  .1  .2  .3 ...   .18  .19  \\\n",
       "0  13904  20110101   153  12  OVC049     10.00             ...              \n",
       "1  13904  20110101   253  12  OVC060     10.00             ...   030        \n",
       "2  13904  20110101   353  12  OVC065     10.00             ...              \n",
       "3  13904  20110101   453  12  BKN070     10.00             ...              \n",
       "4  13904  20110101   553  12  BKN065     10.00             ...   015        \n",
       "\n",
       "   29.95  .20  AA  .21  .22  .23 29.95.1  .24  \n",
       "0  30.01       AA                  30.02       \n",
       "1  30.01       AA                  30.02       \n",
       "2  30.03       AA                  30.04       \n",
       "3  30.04       AA                  30.04       \n",
       "4  30.06       AA                  30.06       \n",
       "\n",
       "[5 rows x 44 columns]"
      ]
     },
     "execution_count": 7,
     "metadata": {},
     "output_type": "execute_result"
    }
   ],
   "source": [
    "df2.head()"
   ]
  },
  {
   "cell_type": "code",
   "execution_count": 8,
   "metadata": {
    "collapsed": true
   },
   "outputs": [],
   "source": [
    "df2_noheader = pd.read_csv('./pandasDataSets/NOAA_QCLCD_2011_hourly_13904.txt', header=None)"
   ]
  },
  {
   "cell_type": "code",
   "execution_count": 9,
   "metadata": {},
   "outputs": [
    {
     "data": {
      "text/html": [
       "<div>\n",
       "<style>\n",
       "    .dataframe thead tr:only-child th {\n",
       "        text-align: right;\n",
       "    }\n",
       "\n",
       "    .dataframe thead th {\n",
       "        text-align: left;\n",
       "    }\n",
       "\n",
       "    .dataframe tbody tr th {\n",
       "        vertical-align: top;\n",
       "    }\n",
       "</style>\n",
       "<table border=\"1\" class=\"dataframe\">\n",
       "  <thead>\n",
       "    <tr style=\"text-align: right;\">\n",
       "      <th></th>\n",
       "      <th>0</th>\n",
       "      <th>1</th>\n",
       "      <th>2</th>\n",
       "      <th>3</th>\n",
       "      <th>4</th>\n",
       "      <th>5</th>\n",
       "      <th>6</th>\n",
       "      <th>7</th>\n",
       "      <th>8</th>\n",
       "      <th>9</th>\n",
       "      <th>...</th>\n",
       "      <th>34</th>\n",
       "      <th>35</th>\n",
       "      <th>36</th>\n",
       "      <th>37</th>\n",
       "      <th>38</th>\n",
       "      <th>39</th>\n",
       "      <th>40</th>\n",
       "      <th>41</th>\n",
       "      <th>42</th>\n",
       "      <th>43</th>\n",
       "    </tr>\n",
       "  </thead>\n",
       "  <tbody>\n",
       "    <tr>\n",
       "      <th>0</th>\n",
       "      <td>13904</td>\n",
       "      <td>20110101</td>\n",
       "      <td>53</td>\n",
       "      <td>12</td>\n",
       "      <td>OVC045</td>\n",
       "      <td></td>\n",
       "      <td>10.00</td>\n",
       "      <td></td>\n",
       "      <td></td>\n",
       "      <td></td>\n",
       "      <td>...</td>\n",
       "      <td></td>\n",
       "      <td></td>\n",
       "      <td>29.95</td>\n",
       "      <td></td>\n",
       "      <td>AA</td>\n",
       "      <td></td>\n",
       "      <td></td>\n",
       "      <td></td>\n",
       "      <td>29.95</td>\n",
       "      <td></td>\n",
       "    </tr>\n",
       "    <tr>\n",
       "      <th>1</th>\n",
       "      <td>13904</td>\n",
       "      <td>20110101</td>\n",
       "      <td>153</td>\n",
       "      <td>12</td>\n",
       "      <td>OVC049</td>\n",
       "      <td></td>\n",
       "      <td>10.00</td>\n",
       "      <td></td>\n",
       "      <td></td>\n",
       "      <td></td>\n",
       "      <td>...</td>\n",
       "      <td></td>\n",
       "      <td></td>\n",
       "      <td>30.01</td>\n",
       "      <td></td>\n",
       "      <td>AA</td>\n",
       "      <td></td>\n",
       "      <td></td>\n",
       "      <td></td>\n",
       "      <td>30.02</td>\n",
       "      <td></td>\n",
       "    </tr>\n",
       "    <tr>\n",
       "      <th>2</th>\n",
       "      <td>13904</td>\n",
       "      <td>20110101</td>\n",
       "      <td>253</td>\n",
       "      <td>12</td>\n",
       "      <td>OVC060</td>\n",
       "      <td></td>\n",
       "      <td>10.00</td>\n",
       "      <td></td>\n",
       "      <td></td>\n",
       "      <td></td>\n",
       "      <td>...</td>\n",
       "      <td>030</td>\n",
       "      <td></td>\n",
       "      <td>30.01</td>\n",
       "      <td></td>\n",
       "      <td>AA</td>\n",
       "      <td></td>\n",
       "      <td></td>\n",
       "      <td></td>\n",
       "      <td>30.02</td>\n",
       "      <td></td>\n",
       "    </tr>\n",
       "    <tr>\n",
       "      <th>3</th>\n",
       "      <td>13904</td>\n",
       "      <td>20110101</td>\n",
       "      <td>353</td>\n",
       "      <td>12</td>\n",
       "      <td>OVC065</td>\n",
       "      <td></td>\n",
       "      <td>10.00</td>\n",
       "      <td></td>\n",
       "      <td></td>\n",
       "      <td></td>\n",
       "      <td>...</td>\n",
       "      <td></td>\n",
       "      <td></td>\n",
       "      <td>30.03</td>\n",
       "      <td></td>\n",
       "      <td>AA</td>\n",
       "      <td></td>\n",
       "      <td></td>\n",
       "      <td></td>\n",
       "      <td>30.04</td>\n",
       "      <td></td>\n",
       "    </tr>\n",
       "    <tr>\n",
       "      <th>4</th>\n",
       "      <td>13904</td>\n",
       "      <td>20110101</td>\n",
       "      <td>453</td>\n",
       "      <td>12</td>\n",
       "      <td>BKN070</td>\n",
       "      <td></td>\n",
       "      <td>10.00</td>\n",
       "      <td></td>\n",
       "      <td></td>\n",
       "      <td></td>\n",
       "      <td>...</td>\n",
       "      <td></td>\n",
       "      <td></td>\n",
       "      <td>30.04</td>\n",
       "      <td></td>\n",
       "      <td>AA</td>\n",
       "      <td></td>\n",
       "      <td></td>\n",
       "      <td></td>\n",
       "      <td>30.04</td>\n",
       "      <td></td>\n",
       "    </tr>\n",
       "  </tbody>\n",
       "</table>\n",
       "<p>5 rows × 44 columns</p>\n",
       "</div>"
      ],
      "text/plain": [
       "      0         1    2   3       4  5      6  7  8  9  ...   34 35     36 37  \\\n",
       "0  13904  20110101   53  12  OVC045     10.00          ...          29.95      \n",
       "1  13904  20110101  153  12  OVC049     10.00          ...          30.01      \n",
       "2  13904  20110101  253  12  OVC060     10.00          ...  030     30.01      \n",
       "3  13904  20110101  353  12  OVC065     10.00          ...          30.03      \n",
       "4  13904  20110101  453  12  BKN070     10.00          ...          30.04      \n",
       "\n",
       "   38 39 40 41     42 43  \n",
       "0  AA           29.95     \n",
       "1  AA           30.02     \n",
       "2  AA           30.02     \n",
       "3  AA           30.04     \n",
       "4  AA           30.04     \n",
       "\n",
       "[5 rows x 44 columns]"
      ]
     },
     "execution_count": 9,
     "metadata": {},
     "output_type": "execute_result"
    }
   ],
   "source": [
    "df2_noheader.head()"
   ]
  },
  {
   "cell_type": "code",
   "execution_count": 10,
   "metadata": {
    "collapsed": true
   },
   "outputs": [],
   "source": [
    "column_labels = 'Wban,date,Time,StationType,sky_condition,sky_conditionFlag,visibility,visibilityFlag,wx_and_obst_to_vision,wx_and_obst_to_visionFlag,dry_bulb_faren,dry_bulb_farenFlag,dry_bulb_cel,dry_bulb_celFlag,wet_bulb_faren,wet_bulb_farenFlag,wet_bulb_cel,wet_bulb_celFlag,dew_point_faren,dew_point_farenFlag,dew_point_cel,dew_point_celFlag,relative_humidity,relative_humidityFlag,wind_speed,wind_speedFlag,wind_direction,wind_directionFlag,value_for_wind_character,value_for_wind_characterFlag,station_pressure,station_pressureFlag,pressure_tendency,pressure_tendencyFlag,presschange,presschangeFlag,sea_level_pressure,sea_level_pressureFlag,record_type,hourly_precip,hourly_precipFlag,altimeter,altimeterFlag,junk'"
   ]
  },
  {
   "cell_type": "code",
   "execution_count": 20,
   "metadata": {},
   "outputs": [],
   "source": [
    "column_labels_list = column_labels.split(',')"
   ]
  },
  {
   "cell_type": "code",
   "execution_count": 21,
   "metadata": {},
   "outputs": [
    {
     "data": {
      "text/plain": [
       "['Wban',\n",
       " 'date',\n",
       " 'Time',\n",
       " 'StationType',\n",
       " 'sky_condition',\n",
       " 'sky_conditionFlag',\n",
       " 'visibility',\n",
       " 'visibilityFlag',\n",
       " 'wx_and_obst_to_vision',\n",
       " 'wx_and_obst_to_visionFlag',\n",
       " 'dry_bulb_faren',\n",
       " 'dry_bulb_farenFlag',\n",
       " 'dry_bulb_cel',\n",
       " 'dry_bulb_celFlag',\n",
       " 'wet_bulb_faren',\n",
       " 'wet_bulb_farenFlag',\n",
       " 'wet_bulb_cel',\n",
       " 'wet_bulb_celFlag',\n",
       " 'dew_point_faren',\n",
       " 'dew_point_farenFlag',\n",
       " 'dew_point_cel',\n",
       " 'dew_point_celFlag',\n",
       " 'relative_humidity',\n",
       " 'relative_humidityFlag',\n",
       " 'wind_speed',\n",
       " 'wind_speedFlag',\n",
       " 'wind_direction',\n",
       " 'wind_directionFlag',\n",
       " 'value_for_wind_character',\n",
       " 'value_for_wind_characterFlag',\n",
       " 'station_pressure',\n",
       " 'station_pressureFlag',\n",
       " 'pressure_tendency',\n",
       " 'pressure_tendencyFlag',\n",
       " 'presschange',\n",
       " 'presschangeFlag',\n",
       " 'sea_level_pressure',\n",
       " 'sea_level_pressureFlag',\n",
       " 'record_type',\n",
       " 'hourly_precip',\n",
       " 'hourly_precipFlag',\n",
       " 'altimeter',\n",
       " 'altimeterFlag',\n",
       " 'junk']"
      ]
     },
     "execution_count": 21,
     "metadata": {},
     "output_type": "execute_result"
    }
   ],
   "source": [
    "column_labels_list"
   ]
  },
  {
   "cell_type": "code",
   "execution_count": 13,
   "metadata": {
    "collapsed": true
   },
   "outputs": [],
   "source": [
    "df2_noheader.columns = column_labels_list"
   ]
  },
  {
   "cell_type": "code",
   "execution_count": 14,
   "metadata": {},
   "outputs": [
    {
     "data": {
      "text/html": [
       "<div>\n",
       "<style>\n",
       "    .dataframe thead tr:only-child th {\n",
       "        text-align: right;\n",
       "    }\n",
       "\n",
       "    .dataframe thead th {\n",
       "        text-align: left;\n",
       "    }\n",
       "\n",
       "    .dataframe tbody tr th {\n",
       "        vertical-align: top;\n",
       "    }\n",
       "</style>\n",
       "<table border=\"1\" class=\"dataframe\">\n",
       "  <thead>\n",
       "    <tr style=\"text-align: right;\">\n",
       "      <th></th>\n",
       "      <th>Wban</th>\n",
       "      <th>date</th>\n",
       "      <th>Time</th>\n",
       "      <th>StationType</th>\n",
       "      <th>sky_condition</th>\n",
       "      <th>sky_conditionFlag</th>\n",
       "      <th>visibility</th>\n",
       "      <th>visibilityFlag</th>\n",
       "      <th>wx_and_obst_to_vision</th>\n",
       "      <th>wx_and_obst_to_visionFlag</th>\n",
       "      <th>...</th>\n",
       "      <th>presschange</th>\n",
       "      <th>presschangeFlag</th>\n",
       "      <th>sea_level_pressure</th>\n",
       "      <th>sea_level_pressureFlag</th>\n",
       "      <th>record_type</th>\n",
       "      <th>hourly_precip</th>\n",
       "      <th>hourly_precipFlag</th>\n",
       "      <th>altimeter</th>\n",
       "      <th>altimeterFlag</th>\n",
       "      <th>junk</th>\n",
       "    </tr>\n",
       "  </thead>\n",
       "  <tbody>\n",
       "    <tr>\n",
       "      <th>0</th>\n",
       "      <td>13904</td>\n",
       "      <td>20110101</td>\n",
       "      <td>53</td>\n",
       "      <td>12</td>\n",
       "      <td>OVC045</td>\n",
       "      <td></td>\n",
       "      <td>10.00</td>\n",
       "      <td></td>\n",
       "      <td></td>\n",
       "      <td></td>\n",
       "      <td>...</td>\n",
       "      <td></td>\n",
       "      <td></td>\n",
       "      <td>29.95</td>\n",
       "      <td></td>\n",
       "      <td>AA</td>\n",
       "      <td></td>\n",
       "      <td></td>\n",
       "      <td></td>\n",
       "      <td>29.95</td>\n",
       "      <td></td>\n",
       "    </tr>\n",
       "    <tr>\n",
       "      <th>1</th>\n",
       "      <td>13904</td>\n",
       "      <td>20110101</td>\n",
       "      <td>153</td>\n",
       "      <td>12</td>\n",
       "      <td>OVC049</td>\n",
       "      <td></td>\n",
       "      <td>10.00</td>\n",
       "      <td></td>\n",
       "      <td></td>\n",
       "      <td></td>\n",
       "      <td>...</td>\n",
       "      <td></td>\n",
       "      <td></td>\n",
       "      <td>30.01</td>\n",
       "      <td></td>\n",
       "      <td>AA</td>\n",
       "      <td></td>\n",
       "      <td></td>\n",
       "      <td></td>\n",
       "      <td>30.02</td>\n",
       "      <td></td>\n",
       "    </tr>\n",
       "    <tr>\n",
       "      <th>2</th>\n",
       "      <td>13904</td>\n",
       "      <td>20110101</td>\n",
       "      <td>253</td>\n",
       "      <td>12</td>\n",
       "      <td>OVC060</td>\n",
       "      <td></td>\n",
       "      <td>10.00</td>\n",
       "      <td></td>\n",
       "      <td></td>\n",
       "      <td></td>\n",
       "      <td>...</td>\n",
       "      <td>030</td>\n",
       "      <td></td>\n",
       "      <td>30.01</td>\n",
       "      <td></td>\n",
       "      <td>AA</td>\n",
       "      <td></td>\n",
       "      <td></td>\n",
       "      <td></td>\n",
       "      <td>30.02</td>\n",
       "      <td></td>\n",
       "    </tr>\n",
       "    <tr>\n",
       "      <th>3</th>\n",
       "      <td>13904</td>\n",
       "      <td>20110101</td>\n",
       "      <td>353</td>\n",
       "      <td>12</td>\n",
       "      <td>OVC065</td>\n",
       "      <td></td>\n",
       "      <td>10.00</td>\n",
       "      <td></td>\n",
       "      <td></td>\n",
       "      <td></td>\n",
       "      <td>...</td>\n",
       "      <td></td>\n",
       "      <td></td>\n",
       "      <td>30.03</td>\n",
       "      <td></td>\n",
       "      <td>AA</td>\n",
       "      <td></td>\n",
       "      <td></td>\n",
       "      <td></td>\n",
       "      <td>30.04</td>\n",
       "      <td></td>\n",
       "    </tr>\n",
       "    <tr>\n",
       "      <th>4</th>\n",
       "      <td>13904</td>\n",
       "      <td>20110101</td>\n",
       "      <td>453</td>\n",
       "      <td>12</td>\n",
       "      <td>BKN070</td>\n",
       "      <td></td>\n",
       "      <td>10.00</td>\n",
       "      <td></td>\n",
       "      <td></td>\n",
       "      <td></td>\n",
       "      <td>...</td>\n",
       "      <td></td>\n",
       "      <td></td>\n",
       "      <td>30.04</td>\n",
       "      <td></td>\n",
       "      <td>AA</td>\n",
       "      <td></td>\n",
       "      <td></td>\n",
       "      <td></td>\n",
       "      <td>30.04</td>\n",
       "      <td></td>\n",
       "    </tr>\n",
       "  </tbody>\n",
       "</table>\n",
       "<p>5 rows × 44 columns</p>\n",
       "</div>"
      ],
      "text/plain": [
       "    Wban      date  Time  StationType sky_condition sky_conditionFlag  \\\n",
       "0  13904  20110101    53           12        OVC045                     \n",
       "1  13904  20110101   153           12        OVC049                     \n",
       "2  13904  20110101   253           12        OVC060                     \n",
       "3  13904  20110101   353           12        OVC065                     \n",
       "4  13904  20110101   453           12        BKN070                     \n",
       "\n",
       "  visibility visibilityFlag wx_and_obst_to_vision wx_and_obst_to_visionFlag  \\\n",
       "0      10.00                                                                  \n",
       "1      10.00                                                                  \n",
       "2      10.00                                                                  \n",
       "3      10.00                                                                  \n",
       "4      10.00                                                                  \n",
       "\n",
       "  ...  presschange presschangeFlag sea_level_pressure sea_level_pressureFlag  \\\n",
       "0 ...                                           29.95                          \n",
       "1 ...                                           30.01                          \n",
       "2 ...          030                              30.01                          \n",
       "3 ...                                           30.03                          \n",
       "4 ...                                           30.04                          \n",
       "\n",
       "  record_type hourly_precip hourly_precipFlag altimeter altimeterFlag junk  \n",
       "0          AA                                                   29.95       \n",
       "1          AA                                                   30.02       \n",
       "2          AA                                                   30.02       \n",
       "3          AA                                                   30.04       \n",
       "4          AA                                                   30.04       \n",
       "\n",
       "[5 rows x 44 columns]"
      ]
     },
     "execution_count": 14,
     "metadata": {},
     "output_type": "execute_result"
    }
   ],
   "source": [
    "df2_noheader.head()"
   ]
  },
  {
   "cell_type": "code",
   "execution_count": 22,
   "metadata": {
    "collapsed": true
   },
   "outputs": [],
   "source": [
    "list_to_drop = ['sky_conditionFlag',\n",
    " 'visibilityFlag',\n",
    " 'wx_and_obst_to_vision',\n",
    " 'wx_and_obst_to_visionFlag',\n",
    " 'dry_bulb_farenFlag',\n",
    " 'dry_bulb_celFlag',\n",
    " 'wet_bulb_farenFlag',\n",
    " 'wet_bulb_celFlag',\n",
    " 'dew_point_farenFlag',\n",
    " 'dew_point_celFlag',\n",
    " 'relative_humidityFlag',\n",
    " 'wind_speedFlag',\n",
    " 'wind_directionFlag',\n",
    " 'value_for_wind_character',\n",
    " 'value_for_wind_characterFlag',\n",
    " 'station_pressureFlag',\n",
    " 'pressure_tendencyFlag',\n",
    " 'pressure_tendency',\n",
    " 'presschange',\n",
    " 'presschangeFlag',\n",
    " 'sea_level_pressureFlag',\n",
    " 'hourly_precip',\n",
    " 'hourly_precipFlag',\n",
    " 'altimeter',\n",
    " 'record_type',\n",
    " 'altimeterFlag',\n",
    " 'junk']"
   ]
  },
  {
   "cell_type": "code",
   "execution_count": 23,
   "metadata": {
    "collapsed": true
   },
   "outputs": [],
   "source": [
    "df2_dropped = df2_noheader.drop(list_to_drop, axis = 1)"
   ]
  },
  {
   "cell_type": "code",
   "execution_count": 25,
   "metadata": {},
   "outputs": [
    {
     "data": {
      "text/html": [
       "<div>\n",
       "<style>\n",
       "    .dataframe thead tr:only-child th {\n",
       "        text-align: right;\n",
       "    }\n",
       "\n",
       "    .dataframe thead th {\n",
       "        text-align: left;\n",
       "    }\n",
       "\n",
       "    .dataframe tbody tr th {\n",
       "        vertical-align: top;\n",
       "    }\n",
       "</style>\n",
       "<table border=\"1\" class=\"dataframe\">\n",
       "  <thead>\n",
       "    <tr style=\"text-align: right;\">\n",
       "      <th></th>\n",
       "      <th>Wban</th>\n",
       "      <th>date</th>\n",
       "      <th>Time</th>\n",
       "      <th>StationType</th>\n",
       "      <th>sky_condition</th>\n",
       "      <th>visibility</th>\n",
       "      <th>dry_bulb_faren</th>\n",
       "      <th>dry_bulb_cel</th>\n",
       "      <th>wet_bulb_faren</th>\n",
       "      <th>wet_bulb_cel</th>\n",
       "      <th>dew_point_faren</th>\n",
       "      <th>dew_point_cel</th>\n",
       "      <th>relative_humidity</th>\n",
       "      <th>wind_speed</th>\n",
       "      <th>wind_direction</th>\n",
       "      <th>station_pressure</th>\n",
       "      <th>sea_level_pressure</th>\n",
       "    </tr>\n",
       "  </thead>\n",
       "  <tbody>\n",
       "    <tr>\n",
       "      <th>0</th>\n",
       "      <td>13904</td>\n",
       "      <td>20110101</td>\n",
       "      <td>53</td>\n",
       "      <td>12</td>\n",
       "      <td>OVC045</td>\n",
       "      <td>10.00</td>\n",
       "      <td>51</td>\n",
       "      <td>10.6</td>\n",
       "      <td>38</td>\n",
       "      <td>3.1</td>\n",
       "      <td>15</td>\n",
       "      <td>-9.4</td>\n",
       "      <td>24</td>\n",
       "      <td>15</td>\n",
       "      <td>360</td>\n",
       "      <td>29.42</td>\n",
       "      <td>29.95</td>\n",
       "    </tr>\n",
       "    <tr>\n",
       "      <th>1</th>\n",
       "      <td>13904</td>\n",
       "      <td>20110101</td>\n",
       "      <td>153</td>\n",
       "      <td>12</td>\n",
       "      <td>OVC049</td>\n",
       "      <td>10.00</td>\n",
       "      <td>51</td>\n",
       "      <td>10.6</td>\n",
       "      <td>37</td>\n",
       "      <td>3.0</td>\n",
       "      <td>14</td>\n",
       "      <td>-10.0</td>\n",
       "      <td>23</td>\n",
       "      <td>10</td>\n",
       "      <td>340</td>\n",
       "      <td>29.49</td>\n",
       "      <td>30.01</td>\n",
       "    </tr>\n",
       "    <tr>\n",
       "      <th>2</th>\n",
       "      <td>13904</td>\n",
       "      <td>20110101</td>\n",
       "      <td>253</td>\n",
       "      <td>12</td>\n",
       "      <td>OVC060</td>\n",
       "      <td>10.00</td>\n",
       "      <td>51</td>\n",
       "      <td>10.6</td>\n",
       "      <td>37</td>\n",
       "      <td>2.9</td>\n",
       "      <td>13</td>\n",
       "      <td>-10.6</td>\n",
       "      <td>22</td>\n",
       "      <td>15</td>\n",
       "      <td>010</td>\n",
       "      <td>29.49</td>\n",
       "      <td>30.01</td>\n",
       "    </tr>\n",
       "    <tr>\n",
       "      <th>3</th>\n",
       "      <td>13904</td>\n",
       "      <td>20110101</td>\n",
       "      <td>353</td>\n",
       "      <td>12</td>\n",
       "      <td>OVC065</td>\n",
       "      <td>10.00</td>\n",
       "      <td>50</td>\n",
       "      <td>10.0</td>\n",
       "      <td>38</td>\n",
       "      <td>3.1</td>\n",
       "      <td>17</td>\n",
       "      <td>-8.3</td>\n",
       "      <td>27</td>\n",
       "      <td>7</td>\n",
       "      <td>350</td>\n",
       "      <td>29.51</td>\n",
       "      <td>30.03</td>\n",
       "    </tr>\n",
       "    <tr>\n",
       "      <th>4</th>\n",
       "      <td>13904</td>\n",
       "      <td>20110101</td>\n",
       "      <td>453</td>\n",
       "      <td>12</td>\n",
       "      <td>BKN070</td>\n",
       "      <td>10.00</td>\n",
       "      <td>50</td>\n",
       "      <td>10.0</td>\n",
       "      <td>37</td>\n",
       "      <td>2.8</td>\n",
       "      <td>15</td>\n",
       "      <td>-9.4</td>\n",
       "      <td>25</td>\n",
       "      <td>11</td>\n",
       "      <td>020</td>\n",
       "      <td>29.51</td>\n",
       "      <td>30.04</td>\n",
       "    </tr>\n",
       "  </tbody>\n",
       "</table>\n",
       "</div>"
      ],
      "text/plain": [
       "    Wban      date  Time  StationType sky_condition visibility dry_bulb_faren  \\\n",
       "0  13904  20110101    53           12        OVC045      10.00             51   \n",
       "1  13904  20110101   153           12        OVC049      10.00             51   \n",
       "2  13904  20110101   253           12        OVC060      10.00             51   \n",
       "3  13904  20110101   353           12        OVC065      10.00             50   \n",
       "4  13904  20110101   453           12        BKN070      10.00             50   \n",
       "\n",
       "  dry_bulb_cel wet_bulb_faren wet_bulb_cel dew_point_faren dew_point_cel  \\\n",
       "0         10.6             38          3.1              15          -9.4   \n",
       "1         10.6             37          3.0              14         -10.0   \n",
       "2         10.6             37          2.9              13         -10.6   \n",
       "3         10.0             38          3.1              17          -8.3   \n",
       "4         10.0             37          2.8              15          -9.4   \n",
       "\n",
       "  relative_humidity wind_speed wind_direction station_pressure  \\\n",
       "0                24         15            360            29.42   \n",
       "1                23         10            340            29.49   \n",
       "2                22         15            010            29.49   \n",
       "3                27          7            350            29.51   \n",
       "4                25         11            020            29.51   \n",
       "\n",
       "  sea_level_pressure  \n",
       "0              29.95  \n",
       "1              30.01  \n",
       "2              30.01  \n",
       "3              30.03  \n",
       "4              30.04  "
      ]
     },
     "execution_count": 25,
     "metadata": {},
     "output_type": "execute_result"
    }
   ],
   "source": [
    "df2_dropped.head()"
   ]
  },
  {
   "cell_type": "code",
   "execution_count": 30,
   "metadata": {},
   "outputs": [
    {
     "data": {
      "text/plain": [
       "(10337, 44)"
      ]
     },
     "execution_count": 30,
     "metadata": {},
     "output_type": "execute_result"
    }
   ],
   "source": [
    "df2_noheader.shape"
   ]
  },
  {
   "cell_type": "code",
   "execution_count": 31,
   "metadata": {},
   "outputs": [
    {
     "data": {
      "text/plain": [
       "(10337, 17)"
      ]
     },
     "execution_count": 31,
     "metadata": {},
     "output_type": "execute_result"
    }
   ],
   "source": [
    "df2_dropped.shape"
   ]
  },
  {
   "cell_type": "code",
   "execution_count": 33,
   "metadata": {},
   "outputs": [
    {
     "name": "stdout",
     "output_type": "stream",
     "text": [
      "<class 'pandas.core.frame.DataFrame'>\n",
      "RangeIndex: 10337 entries, 0 to 10336\n",
      "Data columns (total 17 columns):\n",
      "Wban                  10337 non-null int64\n",
      "date                  10337 non-null int64\n",
      "Time                  10337 non-null int64\n",
      "StationType           10337 non-null int64\n",
      "sky_condition         10337 non-null object\n",
      "visibility            10337 non-null object\n",
      "dry_bulb_faren        10337 non-null object\n",
      "dry_bulb_cel          10337 non-null object\n",
      "wet_bulb_faren        10337 non-null object\n",
      "wet_bulb_cel          10337 non-null object\n",
      "dew_point_faren       10337 non-null object\n",
      "dew_point_cel         10337 non-null object\n",
      "relative_humidity     10337 non-null object\n",
      "wind_speed            10337 non-null object\n",
      "wind_direction        10337 non-null object\n",
      "station_pressure      10337 non-null object\n",
      "sea_level_pressure    10337 non-null object\n",
      "dtypes: int64(4), object(13)\n",
      "memory usage: 1.3+ MB\n"
     ]
    }
   ],
   "source": [
    "df2_dropped.info()"
   ]
  },
  {
   "cell_type": "markdown",
   "metadata": {},
   "source": [
    "To use the full power of pandas time series, we convert the date column, to a DateTimeIndex. "
   ]
  },
  {
   "cell_type": "code",
   "execution_count": 37,
   "metadata": {},
   "outputs": [],
   "source": [
    "df2_dropped['date'] = df2_dropped['date'].astype(str)"
   ]
  },
  {
   "cell_type": "code",
   "execution_count": 38,
   "metadata": {},
   "outputs": [
    {
     "data": {
      "text/plain": [
       "Wban                   int64\n",
       "date                  object\n",
       "Time                   int64\n",
       "StationType            int64\n",
       "sky_condition         object\n",
       "visibility            object\n",
       "dry_bulb_faren        object\n",
       "dry_bulb_cel          object\n",
       "wet_bulb_faren        object\n",
       "wet_bulb_cel          object\n",
       "dew_point_faren       object\n",
       "dew_point_cel         object\n",
       "relative_humidity     object\n",
       "wind_speed            object\n",
       "wind_direction        object\n",
       "station_pressure      object\n",
       "sea_level_pressure    object\n",
       "dtype: object"
      ]
     },
     "execution_count": 38,
     "metadata": {},
     "output_type": "execute_result"
    }
   ],
   "source": [
    "df2_dropped.dtypes"
   ]
  },
  {
   "cell_type": "code",
   "execution_count": 39,
   "metadata": {},
   "outputs": [
    {
     "data": {
      "text/plain": [
       "0     53\n",
       "1    153\n",
       "2    253\n",
       "3    353\n",
       "4    453\n",
       "Name: Time, dtype: int64"
      ]
     },
     "execution_count": 39,
     "metadata": {},
     "output_type": "execute_result"
    }
   ],
   "source": [
    "df2_dropped['Time'].head()"
   ]
  },
  {
   "cell_type": "code",
   "execution_count": 63,
   "metadata": {},
   "outputs": [
    {
     "data": {
      "text/plain": [
       "'5234'"
      ]
     },
     "execution_count": 63,
     "metadata": {},
     "output_type": "execute_result"
    }
   ],
   "source": [
    "'{:1>4}'.format(5234)"
   ]
  },
  {
   "cell_type": "code",
   "execution_count": 60,
   "metadata": {},
   "outputs": [],
   "source": [
    "df2_dropped['Time'] = df2_dropped['Time'].apply(lambda x:'{:0>4}'.format(x))"
   ]
  },
  {
   "cell_type": "code",
   "execution_count": 61,
   "metadata": {},
   "outputs": [
    {
     "data": {
      "text/plain": [
       "0    0053\n",
       "1    0153\n",
       "2    0253\n",
       "3    0353\n",
       "4    0453\n",
       "Name: Time, dtype: object"
      ]
     },
     "execution_count": 61,
     "metadata": {},
     "output_type": "execute_result"
    }
   ],
   "source": [
    "df2_dropped['Time'].head()"
   ]
  },
  {
   "cell_type": "code",
   "execution_count": 64,
   "metadata": {
    "collapsed": true
   },
   "outputs": [],
   "source": [
    "date_string = df2_dropped['date'] + df2_dropped['Time']"
   ]
  },
  {
   "cell_type": "code",
   "execution_count": 66,
   "metadata": {},
   "outputs": [
    {
     "data": {
      "text/plain": [
       "0    201101010053\n",
       "1    201101010153\n",
       "2    201101010253\n",
       "3    201101010353\n",
       "4    201101010453\n",
       "dtype: object"
      ]
     },
     "execution_count": 66,
     "metadata": {},
     "output_type": "execute_result"
    }
   ],
   "source": [
    "date_string.head()"
   ]
  },
  {
   "cell_type": "code",
   "execution_count": 68,
   "metadata": {},
   "outputs": [
    {
     "data": {
      "text/plain": [
       "dtype('O')"
      ]
     },
     "execution_count": 68,
     "metadata": {},
     "output_type": "execute_result"
    }
   ],
   "source": [
    "date_string.dtypes"
   ]
  },
  {
   "cell_type": "code",
   "execution_count": 69,
   "metadata": {
    "collapsed": true
   },
   "outputs": [],
   "source": [
    "date_times = pd.to_datetime(date_string)"
   ]
  },
  {
   "cell_type": "code",
   "execution_count": 71,
   "metadata": {},
   "outputs": [
    {
     "data": {
      "text/plain": [
       "0   2011-01-01 00:53:00\n",
       "1   2011-01-01 01:53:00\n",
       "2   2011-01-01 02:53:00\n",
       "3   2011-01-01 03:53:00\n",
       "4   2011-01-01 04:53:00\n",
       "dtype: datetime64[ns]"
      ]
     },
     "execution_count": 71,
     "metadata": {},
     "output_type": "execute_result"
    }
   ],
   "source": [
    "date_times.head()"
   ]
  },
  {
   "cell_type": "code",
   "execution_count": 72,
   "metadata": {
    "collapsed": true
   },
   "outputs": [],
   "source": [
    "date_times = pd.to_datetime(date_string, format='%Y%m%d%H%M')"
   ]
  },
  {
   "cell_type": "code",
   "execution_count": 74,
   "metadata": {},
   "outputs": [
    {
     "data": {
      "text/plain": [
       "0   2011-01-01 00:53:00\n",
       "1   2011-01-01 01:53:00\n",
       "2   2011-01-01 02:53:00\n",
       "3   2011-01-01 03:53:00\n",
       "4   2011-01-01 04:53:00\n",
       "dtype: datetime64[ns]"
      ]
     },
     "execution_count": 74,
     "metadata": {},
     "output_type": "execute_result"
    }
   ],
   "source": [
    "date_times.head()"
   ]
  },
  {
   "cell_type": "code",
   "execution_count": 77,
   "metadata": {
    "collapsed": true
   },
   "outputs": [],
   "source": [
    "df2_clean = df2_dropped.set_index(date_times)"
   ]
  },
  {
   "cell_type": "code",
   "execution_count": 78,
   "metadata": {},
   "outputs": [
    {
     "data": {
      "text/html": [
       "<div>\n",
       "<style>\n",
       "    .dataframe thead tr:only-child th {\n",
       "        text-align: right;\n",
       "    }\n",
       "\n",
       "    .dataframe thead th {\n",
       "        text-align: left;\n",
       "    }\n",
       "\n",
       "    .dataframe tbody tr th {\n",
       "        vertical-align: top;\n",
       "    }\n",
       "</style>\n",
       "<table border=\"1\" class=\"dataframe\">\n",
       "  <thead>\n",
       "    <tr style=\"text-align: right;\">\n",
       "      <th></th>\n",
       "      <th>Wban</th>\n",
       "      <th>date</th>\n",
       "      <th>Time</th>\n",
       "      <th>StationType</th>\n",
       "      <th>sky_condition</th>\n",
       "      <th>visibility</th>\n",
       "      <th>dry_bulb_faren</th>\n",
       "      <th>dry_bulb_cel</th>\n",
       "      <th>wet_bulb_faren</th>\n",
       "      <th>wet_bulb_cel</th>\n",
       "      <th>dew_point_faren</th>\n",
       "      <th>dew_point_cel</th>\n",
       "      <th>relative_humidity</th>\n",
       "      <th>wind_speed</th>\n",
       "      <th>wind_direction</th>\n",
       "      <th>station_pressure</th>\n",
       "      <th>sea_level_pressure</th>\n",
       "    </tr>\n",
       "  </thead>\n",
       "  <tbody>\n",
       "    <tr>\n",
       "      <th>2011-01-01 00:53:00</th>\n",
       "      <td>13904</td>\n",
       "      <td>20110101</td>\n",
       "      <td>0053</td>\n",
       "      <td>12</td>\n",
       "      <td>OVC045</td>\n",
       "      <td>10.00</td>\n",
       "      <td>51</td>\n",
       "      <td>10.6</td>\n",
       "      <td>38</td>\n",
       "      <td>3.1</td>\n",
       "      <td>15</td>\n",
       "      <td>-9.4</td>\n",
       "      <td>24</td>\n",
       "      <td>15</td>\n",
       "      <td>360</td>\n",
       "      <td>29.42</td>\n",
       "      <td>29.95</td>\n",
       "    </tr>\n",
       "    <tr>\n",
       "      <th>2011-01-01 01:53:00</th>\n",
       "      <td>13904</td>\n",
       "      <td>20110101</td>\n",
       "      <td>0153</td>\n",
       "      <td>12</td>\n",
       "      <td>OVC049</td>\n",
       "      <td>10.00</td>\n",
       "      <td>51</td>\n",
       "      <td>10.6</td>\n",
       "      <td>37</td>\n",
       "      <td>3.0</td>\n",
       "      <td>14</td>\n",
       "      <td>-10.0</td>\n",
       "      <td>23</td>\n",
       "      <td>10</td>\n",
       "      <td>340</td>\n",
       "      <td>29.49</td>\n",
       "      <td>30.01</td>\n",
       "    </tr>\n",
       "    <tr>\n",
       "      <th>2011-01-01 02:53:00</th>\n",
       "      <td>13904</td>\n",
       "      <td>20110101</td>\n",
       "      <td>0253</td>\n",
       "      <td>12</td>\n",
       "      <td>OVC060</td>\n",
       "      <td>10.00</td>\n",
       "      <td>51</td>\n",
       "      <td>10.6</td>\n",
       "      <td>37</td>\n",
       "      <td>2.9</td>\n",
       "      <td>13</td>\n",
       "      <td>-10.6</td>\n",
       "      <td>22</td>\n",
       "      <td>15</td>\n",
       "      <td>010</td>\n",
       "      <td>29.49</td>\n",
       "      <td>30.01</td>\n",
       "    </tr>\n",
       "    <tr>\n",
       "      <th>2011-01-01 03:53:00</th>\n",
       "      <td>13904</td>\n",
       "      <td>20110101</td>\n",
       "      <td>0353</td>\n",
       "      <td>12</td>\n",
       "      <td>OVC065</td>\n",
       "      <td>10.00</td>\n",
       "      <td>50</td>\n",
       "      <td>10.0</td>\n",
       "      <td>38</td>\n",
       "      <td>3.1</td>\n",
       "      <td>17</td>\n",
       "      <td>-8.3</td>\n",
       "      <td>27</td>\n",
       "      <td>7</td>\n",
       "      <td>350</td>\n",
       "      <td>29.51</td>\n",
       "      <td>30.03</td>\n",
       "    </tr>\n",
       "    <tr>\n",
       "      <th>2011-01-01 04:53:00</th>\n",
       "      <td>13904</td>\n",
       "      <td>20110101</td>\n",
       "      <td>0453</td>\n",
       "      <td>12</td>\n",
       "      <td>BKN070</td>\n",
       "      <td>10.00</td>\n",
       "      <td>50</td>\n",
       "      <td>10.0</td>\n",
       "      <td>37</td>\n",
       "      <td>2.8</td>\n",
       "      <td>15</td>\n",
       "      <td>-9.4</td>\n",
       "      <td>25</td>\n",
       "      <td>11</td>\n",
       "      <td>020</td>\n",
       "      <td>29.51</td>\n",
       "      <td>30.04</td>\n",
       "    </tr>\n",
       "  </tbody>\n",
       "</table>\n",
       "</div>"
      ],
      "text/plain": [
       "                      Wban      date  Time  StationType sky_condition  \\\n",
       "2011-01-01 00:53:00  13904  20110101  0053           12        OVC045   \n",
       "2011-01-01 01:53:00  13904  20110101  0153           12        OVC049   \n",
       "2011-01-01 02:53:00  13904  20110101  0253           12        OVC060   \n",
       "2011-01-01 03:53:00  13904  20110101  0353           12        OVC065   \n",
       "2011-01-01 04:53:00  13904  20110101  0453           12        BKN070   \n",
       "\n",
       "                    visibility dry_bulb_faren dry_bulb_cel wet_bulb_faren  \\\n",
       "2011-01-01 00:53:00      10.00             51         10.6             38   \n",
       "2011-01-01 01:53:00      10.00             51         10.6             37   \n",
       "2011-01-01 02:53:00      10.00             51         10.6             37   \n",
       "2011-01-01 03:53:00      10.00             50         10.0             38   \n",
       "2011-01-01 04:53:00      10.00             50         10.0             37   \n",
       "\n",
       "                    wet_bulb_cel dew_point_faren dew_point_cel  \\\n",
       "2011-01-01 00:53:00          3.1              15          -9.4   \n",
       "2011-01-01 01:53:00          3.0              14         -10.0   \n",
       "2011-01-01 02:53:00          2.9              13         -10.6   \n",
       "2011-01-01 03:53:00          3.1              17          -8.3   \n",
       "2011-01-01 04:53:00          2.8              15          -9.4   \n",
       "\n",
       "                    relative_humidity wind_speed wind_direction  \\\n",
       "2011-01-01 00:53:00                24         15            360   \n",
       "2011-01-01 01:53:00                23         10            340   \n",
       "2011-01-01 02:53:00                22         15            010   \n",
       "2011-01-01 03:53:00                27          7            350   \n",
       "2011-01-01 04:53:00                25         11            020   \n",
       "\n",
       "                    station_pressure sea_level_pressure  \n",
       "2011-01-01 00:53:00            29.42              29.95  \n",
       "2011-01-01 01:53:00            29.49              30.01  \n",
       "2011-01-01 02:53:00            29.49              30.01  \n",
       "2011-01-01 03:53:00            29.51              30.03  \n",
       "2011-01-01 04:53:00            29.51              30.04  "
      ]
     },
     "execution_count": 78,
     "metadata": {},
     "output_type": "execute_result"
    }
   ],
   "source": [
    "df2_clean.head()"
   ]
  },
  {
   "cell_type": "code",
   "execution_count": null,
   "metadata": {
    "collapsed": true
   },
   "outputs": [],
   "source": []
  }
 ],
 "metadata": {
  "kernelspec": {
   "display_name": "Python 2",
   "language": "python",
   "name": "python2"
  },
  "language_info": {
   "codemirror_mode": {
    "name": "ipython",
    "version": 2
   },
   "file_extension": ".py",
   "mimetype": "text/x-python",
   "name": "python",
   "nbconvert_exporter": "python",
   "pygments_lexer": "ipython2",
   "version": "2.7.13"
  }
 },
 "nbformat": 4,
 "nbformat_minor": 2
}
