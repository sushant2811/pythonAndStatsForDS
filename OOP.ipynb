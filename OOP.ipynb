{
 "cells": [
  {
   "cell_type": "markdown",
   "metadata": {},
   "source": [
    "When we define a new type it's called a class. The convention in Python is that classes start with capital letter.\n",
    "\n",
    "Define a new type, encapsulate data inside of that type, define a bunch of methods that define the behaviors that you can perform on the objects of that type.\n",
    "\n",
    "You'll notice that there are two interesting looking method names here, init and str, and these methods look just like functions. The only reason that we don't call them functions is that they're defined inside the context of a class. So they can only operate on objects of this type Character, they can't be called directly in any other way.\n",
    "\n",
    "init is called the initializer.\n",
    "\n",
    "self variable is reference to the new object."
   ]
  },
  {
   "cell_type": "code",
   "execution_count": null,
   "metadata": {
    "collapsed": true
   },
   "outputs": [],
   "source": [
    "#__method__ are never called directly. Python calls them behind your back."
   ]
  },
  {
   "cell_type": "code",
   "execution_count": null,
   "metadata": {
    "collapsed": true
   },
   "outputs": [],
   "source": [
    "class Character:\n",
    "    def __init__(self, name, initial_health):\n",
    "        self.name = name\n",
    "        # field is referenced by a dot notation\n",
    "        self.health = initial_health\n",
    "        self.inventory = []\n",
    "        \n",
    "        # name, health, and inventory are fields inside the object.\n",
    "        # init object is the initializer, it doesn't return anything. \n",
    "        \n",
    "    def __str__(self):\n",
    "        s  = \"Name: \" + self.name\n",
    "        s += \" Health: \" + str(self.health)\n",
    "        s += \" Inventory: \" + str(self.inventory)\n",
    "        return s\n",
    "    \n",
    "    # The functions below are also called behaviors\n",
    "    \n",
    "    def grab(self, item):\n",
    "        self.inventory.append(item)\n",
    "        \n",
    "    def get_health(self):\n",
    "        return self.health"
   ]
  },
  {
   "cell_type": "code",
   "execution_count": null,
   "metadata": {
    "collapsed": true
   },
   "outputs": [],
   "source": [
    "def example():\n",
    "    me = Character(\"Bob\", 20)\n",
    "    # The class name becomes the constructor. So when I want to create a new character, \n",
    "    # I call Character as if it were a function, and then I pass the argument's name and initial health. \n",
    "    # You'll see I don't pass self \n",
    "    # And that the init function, even though it didn't actually return anything, \n",
    "    # returns the new object that was created\n",
    "    # \n",
    "    print str(me)\n",
    "    # If I use str(me) it will behind my back call __stir__, and it'll pass the object me as self\n",
    "    \n",
    "    me.grab(\"pencil\")\n",
    "    print str(me)\n",
    "    me.grab(\"paper\")\n",
    "    print str(me)\n",
    "    print \"Health:\", me.get_health()"
   ]
  },
  {
   "cell_type": "code",
   "execution_count": null,
   "metadata": {
    "collapsed": true
   },
   "outputs": [],
   "source": [
    "example()"
   ]
  },
  {
   "cell_type": "markdown",
   "metadata": {},
   "source": [
    "** OOP 202 **"
   ]
  },
  {
   "cell_type": "code",
   "execution_count": null,
   "metadata": {
    "collapsed": true
   },
   "outputs": [],
   "source": [
    "# ball physics code for generic 2D domain\n",
    "# the functions inside() and normal() encode the shape of the ennvironment\n",
    "\n",
    "import simplegui\n",
    "import random\n",
    "import math\n",
    "\n",
    "# Canvas size\n",
    "width = 600\n",
    "height = 400\n",
    "\n",
    "# Ball traits\n",
    "radius = 20\n",
    "color = \"White\"\n",
    "\n",
    "# math helper function\n",
    "def dot(v, w):\n",
    "    return v[0] * w[0] + v[1] * w[1]\n",
    "\n",
    "class RectangularDomain:\n",
    "    def __init__(self, width, height):\n",
    "        self.width = width\n",
    "        self.height = height\n",
    "        self.border = 2\n",
    "\n",
    "    # return if bounding circle is inside the domain    \n",
    "    def inside(self, center, radius):\n",
    "        in_width = ((radius + self.border) < center[0] < \n",
    "                    (self.width - self.border - radius))\n",
    "        in_height = ((radius + self.border) < center[1] < \n",
    "                     (self.height - self.border - radius))\n",
    "        return in_width and in_height\n",
    "\n",
    "    # return a unit normal to the domain boundary point nearest center\n",
    "    def normal(self, center):\n",
    "        left_dist = center[0]\n",
    "        right_dist = self.width - center[0]\n",
    "        top_dist = center[1]\n",
    "        bottom_dist = self.height - center[1]\n",
    "        if left_dist < min(right_dist, top_dist, bottom_dist):\n",
    "            return (1, 0)\n",
    "        elif right_dist < min(left_dist, top_dist, bottom_dist):\n",
    "            return (-1, 0)\n",
    "        elif top_dist < min(bottom_dist, left_dist, right_dist):\n",
    "            return (0, 1)\n",
    "        else:\n",
    "            return (0, -1)\n",
    "\n",
    "    # return random location\n",
    "    def random_pos(self, radius):\n",
    "        x = random.randrange(radius, self.width - radius - self.border)\n",
    "        y = random.randrange(radius, self.height - radius - self.border)\n",
    "        return [x, y]\n",
    "\n",
    "    # Draw boundary of domain\n",
    "    def draw(self, canvas):\n",
    "        canvas.draw_polygon([[0, 0], [self.width, 0], \n",
    "                             [self.width, self.height], [0, self.height]],\n",
    "                             self.border*2, \"Red\")\n",
    "        \n",
    "class CircularDomain:\n",
    "    def __init__(self, center, radius):\n",
    "        self.center = center\n",
    "        self.radius = radius\n",
    "        self.border = 2\n",
    "        \n",
    "    # return if bounding circle is inside the domain    \n",
    "    def inside(self, center, radius):\n",
    "        dx = center[0] - self.center[0]\n",
    "        dy = center[1] - self.center[1]\n",
    "        dr = math.sqrt(dx ** 2 + dy ** 2)\n",
    "        return dr < (self.radius - radius - self.border)\n",
    "\n",
    "    # return a unit normal to the domain boundary point nearest center\n",
    "    def normal(self, center):\n",
    "        dx = center[0] - self.center[0]\n",
    "        dy = center[1] - self.center[1]\n",
    "        dr = math.sqrt(dx ** 2 + dy ** 2)\n",
    "        return [dx / dr, dy / dr]\n",
    "    \n",
    "    # return random location\n",
    "    def random_pos(self, radius):\n",
    "        r = random.random() * (self.radius - radius - self.border)\n",
    "        theta = random.random() * 2 * math.pi\n",
    "        x = r * math.cos(theta) + self.center[0]\n",
    "        y = r * math.sin(theta) + self.center[1]\n",
    "        return [x, y]\n",
    "        \n",
    "    # Draw boundary of domain\n",
    "    def draw(self, canvas):\n",
    "        canvas.draw_circle(self.center, self.radius, self.border*2, \"Red\")\n",
    "    \n",
    "class Ball:\n",
    "    def __init__(self, radius, color, domain):\n",
    "        self.radius = radius\n",
    "        self.color = color\n",
    "        self.domain = domain\n",
    "        \n",
    "        self.pos = self.domain.random_pos(self.radius)\n",
    "        self.vel = [random.random() + .1, random.random() + .1]\n",
    "        \n",
    "    # bounce\n",
    "    def reflect(self):\n",
    "        norm = self.domain.normal(self.pos)\n",
    "        norm_length = dot(self.vel, norm)\n",
    "        self.vel[0] = self.vel[0] - 2 * norm_length * norm[0]\n",
    "        self.vel[1] = self.vel[1] - 2 * norm_length * norm[1]\n",
    "    \n",
    "\n",
    "    # update ball position\n",
    "    def update(self):\n",
    "        self.pos[0] += self.vel[0]\n",
    "        self.pos[1] += self.vel[1]\n",
    "        if not self.domain.inside(self.pos, self.radius):\n",
    "            self.reflect()\n",
    "\n",
    "    # draw\n",
    "    def draw(self, canvas):\n",
    "        canvas.draw_circle(self.pos, self.radius, 1, \n",
    "                           self.color, self.color)\n",
    "        \n",
    "\n",
    "# generic update code for ball physics\n",
    "def draw(canvas):\n",
    "    ball.update()\n",
    "    field.draw(canvas)\n",
    "    ball.draw(canvas)\n",
    "\n",
    "field = RectangularDomain(width, height)\n",
    "# field = CircularDomain([width/2, height/2], 180)\n",
    "ball = Ball(radius, color, field)\n",
    "        \n",
    "frame = simplegui.create_frame(\"Ball physics\", width, height)\n",
    "\n",
    "frame.set_draw_handler(draw)\n",
    "\n",
    "frame.start()"
   ]
  },
  {
   "cell_type": "code",
   "execution_count": null,
   "metadata": {
    "collapsed": true
   },
   "outputs": [],
   "source": [
    "# Particle class example used to simulate diffusion of molecules\n",
    "\n",
    "import simplegui\n",
    "import random\n",
    "\n",
    "# global constants\n",
    "WIDTH = 600\n",
    "HEIGHT = 400\n",
    "PARTICLE_RADIUS = 5\n",
    "COLOR_LIST = [\"Red\", \"Green\", \"Blue\", \"White\"]\n",
    "DIRECTION_LIST = [[1,0], [0, 1], [-1, 0], [0, -1]]\n",
    "\n",
    "\n",
    "# definition of Particle class\n",
    "class Particle:\n",
    "    \n",
    "    # initializer for particles\n",
    "    def __init__(self, position, color):\n",
    "        self.position = position\n",
    "        self.color = color\n",
    "        \n",
    "    # method that updates position of a particle    \n",
    "    def move(self, offset):\n",
    "        self.position[0] += offset[0]\n",
    "        self.position[1] += offset[1]\n",
    "        \n",
    "    # draw method for particles\n",
    "    def draw(self, canvas):\n",
    "        canvas.draw_circle(self.position, PARTICLE_RADIUS, 1, self.color, self.color)\n",
    "    \n",
    "    # string method for particles\n",
    "    def __str__(self):\n",
    "        return \"Particle with position = \" + str(self.position) + \" and color = \" + self.color\n",
    "\n",
    "\n",
    "# draw handler\n",
    "def draw(canvas):\n",
    "    for p in particle_list:\n",
    "        p.move(random.choice(DIRECTION_LIST))\n",
    "    \n",
    "    for p in particle_list:\n",
    "        p.draw(canvas)\n",
    "\n",
    "\n",
    "# create frame and register draw handler\n",
    "frame = simplegui.create_frame(\"Particle simulator\", WIDTH, HEIGHT)\n",
    "frame.set_draw_handler(draw)\n",
    "\n",
    "# create a list of particles\n",
    "particle_list = []\n",
    "for i in range(100):\n",
    "    p = Particle([WIDTH / 2, HEIGHT / 2], random.choice(COLOR_LIST))\n",
    "    particle_list.append(p)\n",
    "\n",
    "# start frame\n",
    "frame.start()"
   ]
  },
  {
   "cell_type": "code",
   "execution_count": null,
   "metadata": {
    "collapsed": true
   },
   "outputs": [],
   "source": [
    "# Testing template for Particle class\n",
    "\n",
    "\n",
    "###################################################\n",
    "# Student should add code for the Particle class here\n",
    "    \n",
    "\n",
    "\n",
    "###################################################\n",
    "# Test code for the Particle class\n",
    "\n",
    "\n",
    "p = Particle([20, 20], \"Red\")\n",
    "print p\n",
    "print type(p)\n",
    "p.move([10, 20])\n",
    "print p\n",
    "p.move([-15, -25])\n",
    "print p\n",
    "print\n",
    "q = Particle([15, 30], \"Green\")\n",
    "print q\n",
    "print type(q)\n",
    "q.move([0, 0])\n",
    "print q\n",
    "\n",
    "\n",
    "###################################################\n",
    "# Output from test\n",
    "\n",
    "#Particle with position = [20, 20] and color = Red\n",
    "#<class '__main__.Particle'>\n",
    "#Particle with position = [30, 40] and color = Red\n",
    "#Particle with position = [15, 15] and color = Red\n",
    "#\n",
    "#Particle with position = [15, 30] and color = Green\n",
    "#<class '__main__.Particle'>\n",
    "#Particle with position = [15, 30] and color = Green"
   ]
  },
  {
   "cell_type": "code",
   "execution_count": 38,
   "metadata": {
    "collapsed": true
   },
   "outputs": [],
   "source": [
    "import turtle\n",
    "\n",
    "def draw_square():\n",
    "    window = turtle.Screen()\n",
    "    window.bgcolor(\"red\")\n",
    "    \n",
    "    brad = turtle.Turtle()\n",
    "    # brad is an instance of class called turtle\n",
    "    brad.forward(100)\n",
    "    brad.right(90)\n",
    "    brad.forward(100)\n",
    "    brad.right(90)\n",
    "    brad.forward(100)\n",
    "    brad.right(90)\n",
    "    brad.forward(100)\n",
    "    brad.right(90)\n",
    "    \n",
    "    window.exitonclick()\n",
    "    "
   ]
  },
  {
   "cell_type": "code",
   "execution_count": null,
   "metadata": {
    "collapsed": true
   },
   "outputs": [],
   "source": [
    "draw_square()"
   ]
  },
  {
   "cell_type": "code",
   "execution_count": 2,
   "metadata": {},
   "outputs": [
    {
     "name": "stdout",
     "output_type": "stream",
     "text": [
      "6.8.3\n"
     ]
    }
   ],
   "source": [
    "import twilio\n",
    "print twilio.__version__"
   ]
  },
  {
   "cell_type": "code",
   "execution_count": 5,
   "metadata": {
    "collapsed": true
   },
   "outputs": [],
   "source": [
    "def read_text():\n",
    "    quotes = open('./movie_quotes.txt', 'r')\n",
    "    # quotes is an object or an instance of File\n",
    "    # open in turn is calling some __init__ like function to open \n",
    "    contents = quotes.read()\n",
    "    print contents\n",
    "    quotes.close()"
   ]
  },
  {
   "cell_type": "code",
   "execution_count": 4,
   "metadata": {},
   "outputs": [
    {
     "name": "stdout",
     "output_type": "stream",
     "text": [
      "-- Houston, we have a problem. (Apollo 13)\n",
      "\n",
      "-- Mama always said, life is like a box of chocolates. You never know what you are going to get. (Forrest Gump)\n",
      "\n",
      "-- You cant handle the truth. (A Few Good Men)\n",
      "\n",
      "-- I believe everything and I believe nothing. (A Shot in the Dark)\n"
     ]
    }
   ],
   "source": [
    "read_text()"
   ]
  },
  {
   "cell_type": "code",
   "execution_count": 6,
   "metadata": {
    "collapsed": true
   },
   "outputs": [],
   "source": [
    "import urllib"
   ]
  },
  {
   "cell_type": "code",
   "execution_count": 15,
   "metadata": {
    "collapsed": true
   },
   "outputs": [],
   "source": [
    "def check_profanity(text_to_check):\n",
    "    connection = urllib.urlopen(\"http://www.wdylike.appspot.com/?q=\" + text_to_check)\n",
    "    output = connection.read()\n",
    "    connection.close()\n",
    "    # print output\n",
    "    if \"true\" in output:\n",
    "        print \"Profanity alert!\"\n",
    "    elif \"flase\" in output:\n",
    "        print \"Document has no curse words\"\n",
    "    else:\n",
    "        print \"Could not scan the document properly\""
   ]
  },
  {
   "cell_type": "code",
   "execution_count": 16,
   "metadata": {
    "collapsed": true
   },
   "outputs": [],
   "source": [
    "def read_text():\n",
    "    quotes = open('./movie_quotes.txt', 'r')\n",
    "    # quotes is an object or an instance of File\n",
    "    # open in turn is calling some __init__ like function to open \n",
    "    contents = quotes.read()\n",
    "    # print contents\n",
    "    output = check_profanity(contents)\n",
    "    print output\n",
    "    quotes.close()"
   ]
  },
  {
   "cell_type": "code",
   "execution_count": 17,
   "metadata": {},
   "outputs": [
    {
     "name": "stdout",
     "output_type": "stream",
     "text": [
      "Profanity alert!\n",
      "None\n"
     ]
    }
   ],
   "source": [
    "read_text()"
   ]
  },
  {
   "cell_type": "code",
   "execution_count": 48,
   "metadata": {
    "collapsed": true
   },
   "outputs": [],
   "source": [
    "import webbrowser\n",
    "\n",
    "class Movie():\n",
    "    \"\"\"This class provides a way to store movie related information \n",
    "    Second line\"\"\"\n",
    "    \n",
    "    VALID_RATINGS = ['G', 'PG', 'PG-13', 'R']\n",
    "    # Valid_ratings is a class variable, available to all instances of a class.\n",
    "    # Python's Google style guide says that we wanna capitalize the variable names\n",
    "    # which are not gonna changes (are constant).\n",
    "    def __init__(self, movie_title, movie_storyline, poster_image, trailer_youtube):\n",
    "        \n",
    "        self.title = movie_title\n",
    "        self.storyline = movie_storyline\n",
    "        self.poster_image_url = poster_image\n",
    "        self.trailer_youtube_url = trailer_youtube\n",
    "        \n",
    "    def show_trailer(self):\n",
    "        webbrowser.open(self.trailer_youtube_url)"
   ]
  },
  {
   "cell_type": "code",
   "execution_count": 44,
   "metadata": {
    "collapsed": true
   },
   "outputs": [],
   "source": [
    "toy_story = Movie('Toy Story', \\\n",
    "                       'A story of a boy and his toys that come to life', \\\n",
    "                       'https://upload.wikimedia.org/wikipedia/en/1/13/Toy_Story.jpg', \\\n",
    "                       'https://www.youtube.com/watch?v=KYz2wyBy3kc')"
   ]
  },
  {
   "cell_type": "code",
   "execution_count": 22,
   "metadata": {},
   "outputs": [
    {
     "name": "stdout",
     "output_type": "stream",
     "text": [
      "A story of a boy and his toys that come to life\n"
     ]
    }
   ],
   "source": [
    "print toy_story.storyline"
   ]
  },
  {
   "cell_type": "code",
   "execution_count": 29,
   "metadata": {
    "collapsed": true
   },
   "outputs": [],
   "source": [
    "avatar = Movie('Avatar', 'A marine on alien planet', \\\n",
    "               'https://upload.wikimedia.org/wikipedia/en/b/b0/Avatar-Teaser-Poster.jpg', \\\n",
    "              'https://www.youtube.com/watch?v=5PSNL1qE6VY')"
   ]
  },
  {
   "cell_type": "code",
   "execution_count": 27,
   "metadata": {},
   "outputs": [
    {
     "ename": "AttributeError",
     "evalue": "Movie instance has no attribute 'storyline'",
     "output_type": "error",
     "traceback": [
      "\u001b[0;31m---------------------------------------------------------------------------\u001b[0m",
      "\u001b[0;31mAttributeError\u001b[0m                            Traceback (most recent call last)",
      "\u001b[0;32m<ipython-input-27-d8090bd68e61>\u001b[0m in \u001b[0;36m<module>\u001b[0;34m()\u001b[0m\n\u001b[0;32m----> 1\u001b[0;31m \u001b[0;32mprint\u001b[0m \u001b[0mavatar\u001b[0m\u001b[0;34m.\u001b[0m\u001b[0mstoryline\u001b[0m\u001b[0;34m\u001b[0m\u001b[0m\n\u001b[0m",
      "\u001b[0;31mAttributeError\u001b[0m: Movie instance has no attribute 'storyline'"
     ]
    }
   ],
   "source": [
    "print avatar.storyline"
   ]
  },
  {
   "cell_type": "code",
   "execution_count": 30,
   "metadata": {
    "collapsed": true
   },
   "outputs": [],
   "source": [
    "avatar.show_trailer()"
   ]
  },
  {
   "cell_type": "code",
   "execution_count": 31,
   "metadata": {
    "collapsed": true
   },
   "outputs": [],
   "source": [
    "import fresh_tomatoes"
   ]
  },
  {
   "cell_type": "code",
   "execution_count": 34,
   "metadata": {
    "collapsed": true
   },
   "outputs": [],
   "source": [
    "movies = [toy_story, avatar]"
   ]
  },
  {
   "cell_type": "code",
   "execution_count": 35,
   "metadata": {
    "collapsed": true
   },
   "outputs": [],
   "source": [
    "fresh_tomatoes.open_movies_page(movies)"
   ]
  },
  {
   "cell_type": "code",
   "execution_count": 37,
   "metadata": {},
   "outputs": [
    {
     "data": {
      "text/plain": [
       "['G', 'PG', 'PG-13', 'R']"
      ]
     },
     "execution_count": 37,
     "metadata": {},
     "output_type": "execute_result"
    }
   ],
   "source": [
    "Movie.VALID_RATINGS"
   ]
  },
  {
   "cell_type": "code",
   "execution_count": 39,
   "metadata": {},
   "outputs": [
    {
     "data": {
      "text/plain": [
       "'RawTurtle auto-creating (scrolled) canvas.\\n\\n    When a Turtle object is created or a function derived from some\\n    Turtle method is called a TurtleScreen object is automatically created.\\n    '"
      ]
     },
     "execution_count": 39,
     "metadata": {},
     "output_type": "execute_result"
    }
   ],
   "source": [
    "turtle.Turtle.__doc__"
   ]
  },
  {
   "cell_type": "code",
   "execution_count": 49,
   "metadata": {},
   "outputs": [
    {
     "data": {
      "text/plain": [
       "'This class provides a way to store movie related information \\n    Second line'"
      ]
     },
     "execution_count": 49,
     "metadata": {},
     "output_type": "execute_result"
    }
   ],
   "source": [
    "Movie.__doc__"
   ]
  },
  {
   "cell_type": "code",
   "execution_count": 50,
   "metadata": {},
   "outputs": [
    {
     "data": {
      "text/plain": [
       "'Movie'"
      ]
     },
     "execution_count": 50,
     "metadata": {},
     "output_type": "execute_result"
    }
   ],
   "source": [
    "Movie.__name__"
   ]
  },
  {
   "cell_type": "code",
   "execution_count": 51,
   "metadata": {},
   "outputs": [
    {
     "data": {
      "text/plain": [
       "'__main__'"
      ]
     },
     "execution_count": 51,
     "metadata": {},
     "output_type": "execute_result"
    }
   ],
   "source": [
    "Movie.__module__"
   ]
  },
  {
   "cell_type": "code",
   "execution_count": 52,
   "metadata": {},
   "outputs": [
    {
     "data": {
      "text/plain": [
       "{'VALID_RATINGS': ['G', 'PG', 'PG-13', 'R'],\n",
       " '__doc__': 'This class provides a way to store movie related information \\n    Second line',\n",
       " '__init__': <function __main__.__init__>,\n",
       " '__module__': '__main__',\n",
       " 'show_trailer': <function __main__.show_trailer>}"
      ]
     },
     "execution_count": 52,
     "metadata": {},
     "output_type": "execute_result"
    }
   ],
   "source": [
    "Movie.__dict__"
   ]
  },
  {
   "cell_type": "code",
   "execution_count": 53,
   "metadata": {},
   "outputs": [
    {
     "data": {
      "text/plain": [
       "()"
      ]
     },
     "execution_count": 53,
     "metadata": {},
     "output_type": "execute_result"
    }
   ],
   "source": [
    "Movie.__bases__"
   ]
  },
  {
   "cell_type": "markdown",
   "metadata": {},
   "source": [
    "## Inheritance"
   ]
  },
  {
   "cell_type": "code",
   "execution_count": 53,
   "metadata": {
    "collapsed": true
   },
   "outputs": [],
   "source": [
    "class Parent():\n",
    "\n",
    "    def __init__(self, last_name, eye_color):\n",
    "        print \"Parent constuctor called\"\n",
    "        self.last_name = last_name\n",
    "        self.eye_color = eye_color\n",
    "        \n",
    "    VALID_NAMES = 3\n",
    "    \n",
    "    @staticmethod \n",
    "    def return_3():\n",
    "        print Parent.VALID_NAMES\n",
    "        \n",
    "    def show_info(self):\n",
    "        print \"Last Name: \" + self.last_name\n",
    "        print \"Eye color: \" + self.eye_color\n",
    "        print \"Valid name: \" + str(Parent.VALID_NAMES)\n",
    "\n",
    "# class child will inherit or re-use anything that is publicly available in class Parent\n",
    "# In the following we use inheritance to re-use our code. \n",
    "class Child(Parent):\n",
    "    \n",
    "    \n",
    "    def __init__(self, last_name, eye_color, number_of_toys):\n",
    "        print \"Child constructor called\"\n",
    "        Parent.__init__(self, last_name, eye_color)\n",
    "        self.number_of_toys = number_of_toys\n",
    "    \n",
    "    def show_info(self):\n",
    "        print \"Last Name: \" + self.last_name\n",
    "        print \"Eye Color: \" + self.eye_color\n",
    "        print \"number of toys: \" + str(self.number_of_toys)"
   ]
  },
  {
   "cell_type": "code",
   "execution_count": 56,
   "metadata": {},
   "outputs": [
    {
     "name": "stdout",
     "output_type": "stream",
     "text": [
      "Parent constuctor called\n"
     ]
    }
   ],
   "source": [
    "p = Parent(\"Cyrus\", \"Blue\")"
   ]
  },
  {
   "cell_type": "code",
   "execution_count": 54,
   "metadata": {},
   "outputs": [
    {
     "name": "stdout",
     "output_type": "stream",
     "text": [
      "3\n"
     ]
    }
   ],
   "source": [
    "Parent.return_3()"
   ]
  },
  {
   "cell_type": "code",
   "execution_count": 17,
   "metadata": {},
   "outputs": [
    {
     "name": "stdout",
     "output_type": "stream",
     "text": [
      "Child constructor called\n",
      "Parent constuctor called\n"
     ]
    }
   ],
   "source": [
    "c = Child(\"Cyrus\", \"Blue\", 5)"
   ]
  },
  {
   "cell_type": "code",
   "execution_count": 57,
   "metadata": {},
   "outputs": [
    {
     "name": "stdout",
     "output_type": "stream",
     "text": [
      "Last Name: Cyrus\n",
      "Eye color: Blue\n",
      "Valid name: 3\n"
     ]
    }
   ],
   "source": [
    "p.show_info()"
   ]
  },
  {
   "cell_type": "code",
   "execution_count": 31,
   "metadata": {},
   "outputs": [
    {
     "name": "stdout",
     "output_type": "stream",
     "text": [
      "3\n"
     ]
    }
   ],
   "source": [
    "Child.return_3()"
   ]
  },
  {
   "cell_type": "code",
   "execution_count": 3,
   "metadata": {},
   "outputs": [
    {
     "name": "stdout",
     "output_type": "stream",
     "text": [
      "Parent constuctor called\n"
     ]
    }
   ],
   "source": [
    "billy_cyrus = Parent(\"Cyruss\", \"blue\")"
   ]
  },
  {
   "cell_type": "code",
   "execution_count": 4,
   "metadata": {},
   "outputs": [
    {
     "data": {
      "text/plain": [
       "'blue'"
      ]
     },
     "execution_count": 4,
     "metadata": {},
     "output_type": "execute_result"
    }
   ],
   "source": [
    "billy_cyrus.eye_color"
   ]
  },
  {
   "cell_type": "code",
   "execution_count": 86,
   "metadata": {},
   "outputs": [
    {
     "name": "stdout",
     "output_type": "stream",
     "text": [
      "Child constructor called\n",
      "Parent constuctor called\n"
     ]
    }
   ],
   "source": [
    "miley_cyrus = Child(\"Cyrus\", \"Blue\", 5)"
   ]
  },
  {
   "cell_type": "code",
   "execution_count": 64,
   "metadata": {},
   "outputs": [
    {
     "data": {
      "text/plain": [
       "'Blue'"
      ]
     },
     "execution_count": 64,
     "metadata": {},
     "output_type": "execute_result"
    }
   ],
   "source": [
    "miley_cyrus.eye_color"
   ]
  },
  {
   "cell_type": "code",
   "execution_count": 70,
   "metadata": {},
   "outputs": [
    {
     "data": {
      "text/plain": [
       "'Cyrus'"
      ]
     },
     "execution_count": 70,
     "metadata": {},
     "output_type": "execute_result"
    }
   ],
   "source": [
    "miley_cyrus.last_name"
   ]
  },
  {
   "cell_type": "code",
   "execution_count": 71,
   "metadata": {},
   "outputs": [
    {
     "data": {
      "text/plain": [
       "'Cyruss'"
      ]
     },
     "execution_count": 71,
     "metadata": {},
     "output_type": "execute_result"
    }
   ],
   "source": [
    "billy_cyrus.last_name"
   ]
  },
  {
   "cell_type": "code",
   "execution_count": 75,
   "metadata": {},
   "outputs": [
    {
     "name": "stdout",
     "output_type": "stream",
     "text": [
      "Last Name: Cyruss\n",
      "Eye color: blue\n"
     ]
    }
   ],
   "source": [
    "billy_cyrus.show_info()"
   ]
  },
  {
   "cell_type": "markdown",
   "metadata": {},
   "source": [
    "Since Child is an inherited class, instances of class Child such as miley_cyrus can also call the show_info() method even though it is not explicitly defined inside the class Child"
   ]
  },
  {
   "cell_type": "code",
   "execution_count": 77,
   "metadata": {},
   "outputs": [
    {
     "name": "stdout",
     "output_type": "stream",
     "text": [
      "Last Name: Cyrus\n",
      "Eye color: Blue\n"
     ]
    }
   ],
   "source": [
    "miley_cyrus.show_info()"
   ]
  },
  {
   "cell_type": "markdown",
   "metadata": {},
   "source": [
    "When we define a method with the same name in the subclass and use it on the instance of the subclass, then the definition inside the subclass is used. This is called **Method overriding**"
   ]
  },
  {
   "cell_type": "code",
   "execution_count": 87,
   "metadata": {},
   "outputs": [
    {
     "name": "stdout",
     "output_type": "stream",
     "text": [
      "Last Name: Cyrus\n",
      "Eye Color: Blue\n",
      "number of toys: 5\n"
     ]
    }
   ],
   "source": [
    "miley_cyrus.show_info()"
   ]
  },
  {
   "cell_type": "markdown",
   "metadata": {
    "collapsed": true
   },
   "source": [
    "## Datacamp tutorial"
   ]
  },
  {
   "cell_type": "code",
   "execution_count": 1,
   "metadata": {
    "collapsed": true
   },
   "outputs": [],
   "source": [
    "class Dog:\n",
    "    \n",
    "    def __init__(self):\n",
    "        \n",
    "        pass"
   ]
  },
  {
   "cell_type": "code",
   "execution_count": 2,
   "metadata": {
    "collapsed": true
   },
   "outputs": [],
   "source": [
    "axle = Dog()"
   ]
  },
  {
   "cell_type": "code",
   "execution_count": 3,
   "metadata": {},
   "outputs": [
    {
     "name": "stdout",
     "output_type": "stream",
     "text": [
      "<__main__.Dog object at 0x107385630>\n"
     ]
    }
   ],
   "source": [
    "print(axle)"
   ]
  },
  {
   "cell_type": "markdown",
   "metadata": {},
   "source": [
    "**Adding attributes to the class**"
   ]
  },
  {
   "cell_type": "code",
   "execution_count": 4,
   "metadata": {
    "collapsed": true
   },
   "outputs": [],
   "source": [
    "class Dog:\n",
    "    \n",
    "    def __init__(self, name, age):\n",
    "        \n",
    "        self.name = name\n",
    "        self.age = age"
   ]
  },
  {
   "cell_type": "code",
   "execution_count": 9,
   "metadata": {
    "collapsed": true
   },
   "outputs": [],
   "source": [
    "axle = Dog(\"Axle\", 3)"
   ]
  },
  {
   "cell_type": "markdown",
   "metadata": {},
   "source": [
    "The attributes are accessed using the dot method"
   ]
  },
  {
   "cell_type": "code",
   "execution_count": 10,
   "metadata": {},
   "outputs": [
    {
     "data": {
      "text/plain": [
       "'Axle'"
      ]
     },
     "execution_count": 10,
     "metadata": {},
     "output_type": "execute_result"
    }
   ],
   "source": [
    "axle.name"
   ]
  },
  {
   "cell_type": "code",
   "execution_count": 11,
   "metadata": {},
   "outputs": [
    {
     "data": {
      "text/plain": [
       "3"
      ]
     },
     "execution_count": 11,
     "metadata": {},
     "output_type": "execute_result"
    }
   ],
   "source": [
    "axle.age"
   ]
  },
  {
   "cell_type": "markdown",
   "metadata": {
    "collapsed": true
   },
   "source": [
    "**Adding methods to the class**"
   ]
  },
  {
   "cell_type": "code",
   "execution_count": 1,
   "metadata": {
    "collapsed": true
   },
   "outputs": [],
   "source": [
    "class Dog:\n",
    "    \n",
    "    def __init__(self, name, age):\n",
    "        \n",
    "        self.name = name\n",
    "        self.age = age\n",
    "        \n",
    "    def bark(self):\n",
    "        \n",
    "        print(\"Bhow bhow!\")"
   ]
  },
  {
   "cell_type": "code",
   "execution_count": 2,
   "metadata": {
    "collapsed": true
   },
   "outputs": [],
   "source": [
    "axle = Dog(\"Axle\", 3)"
   ]
  },
  {
   "cell_type": "code",
   "execution_count": 3,
   "metadata": {},
   "outputs": [
    {
     "data": {
      "text/plain": [
       "'Axle'"
      ]
     },
     "execution_count": 3,
     "metadata": {},
     "output_type": "execute_result"
    }
   ],
   "source": [
    "axle.name"
   ]
  },
  {
   "cell_type": "code",
   "execution_count": 4,
   "metadata": {},
   "outputs": [
    {
     "name": "stdout",
     "output_type": "stream",
     "text": [
      "Bhow bhow!\n"
     ]
    }
   ],
   "source": [
    "axle.bark()"
   ]
  },
  {
   "cell_type": "code",
   "execution_count": null,
   "metadata": {
    "collapsed": true
   },
   "outputs": [],
   "source": []
  }
 ],
 "metadata": {
  "kernelspec": {
   "display_name": "Python 3",
   "language": "python",
   "name": "python3"
  },
  "language_info": {
   "codemirror_mode": {
    "name": "ipython",
    "version": 3
   },
   "file_extension": ".py",
   "mimetype": "text/x-python",
   "name": "python",
   "nbconvert_exporter": "python",
   "pygments_lexer": "ipython3",
   "version": "3.6.3"
  }
 },
 "nbformat": 4,
 "nbformat_minor": 2
}
